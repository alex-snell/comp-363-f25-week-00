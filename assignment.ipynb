{
  "cells": [
    {
      "cell_type": "markdown",
      "id": "affe53ce",
      "metadata": {
        "id": "affe53ce"
      },
      "source": [
        "# Week 00 Assignment\n",
        "\n",
        "This week's assignment is meant as a review and refresher of material needed for this course. This material is covered, typically, in undergraduate courses in data structures and algorithms.\n",
        "\n",
        "In class we discussed the _minimum heap property_ using a binary tree as the underlying abstract data structure. In that representation, we required that <mark>_every parent node is smaller than or equal to both its children._</mark>\n",
        "\n",
        "This data structure is a mechanism that returns always the smallest of the $n$ elements it contains, in $\\mathcal{O}(\\log_2 n)$ time. This is faster than searching for the smallest element in $\\mathcal{O}(n)$ or sorting the array in $\\mathcal{O}(n\\log_2 n)$ time.\n",
        "\n",
        "To implement this abstract data structures, we have two options. Either build a binary tree using node objects or use a plain array. A plain array is preferrable because it has a smaller memory footprint. This implementation requires parent-children relations based on array index values. These relations are given in the methods below.\n"
      ]
    },
    {
      "cell_type": "code",
      "execution_count": 1,
      "id": "d9a29d9a",
      "metadata": {
        "id": "d9a29d9a"
      },
      "outputs": [],
      "source": [
        "def left_child(parent: int) -> int:\n",
        "    return 2 * parent + 1\n",
        "\n",
        "\n",
        "def right_child(parent: int) -> int:\n",
        "    return 2 * (parent + 1)\n",
        "\n",
        "\n",
        "def parent(child: int) -> int:\n",
        "    return (child - 1) // 2"
      ]
    },
    {
      "cell_type": "markdown",
      "id": "b1473041",
      "metadata": {
        "id": "b1473041"
      },
      "source": [
        "Given an array representation of the minimum heap tree, we saw that every time the heap property is violated, it can be restored with successive swaps between an offending value and its parent or children.\n"
      ]
    },
    {
      "cell_type": "code",
      "execution_count": 2,
      "id": "7a17eb00",
      "metadata": {
        "id": "7a17eb00"
      },
      "outputs": [],
      "source": [
        "def swap(heap_array: list, i: int, j: int) -> None:\n",
        "    \"\"\"In place swap of two array elements.\"\"\"\n",
        "    if i != j:\n",
        "        temp = heap_array[i]\n",
        "        heap_array[i] = heap_array[j]\n",
        "        heap_array[j] = temp"
      ]
    },
    {
      "cell_type": "markdown",
      "id": "bd6ec815",
      "metadata": {
        "id": "bd6ec815"
      },
      "source": [
        "The challenge now is to implement two techniques (let's say two methods) to manage the successive swaps from the top and from the bottom, when the heap property is violated.\n"
      ]
    },
    {
      "cell_type": "markdown",
      "id": "ed2466b3",
      "metadata": {
        "id": "ed2466b3"
      },
      "source": [
        "### Formalising the heap property\n",
        "\n",
        "The heap property can be expressed, a bit more formally, as a boolean expression with the following pseudocode.\n",
        "\n",
        "```python\n",
        "# min heap property: parent is smaller than or equal to both children\n",
        "min_heap_observed = (\n",
        "    heap_array[parent] <= heap_array[left_child(parent)]\n",
        "    and heap_array[parent] <= heap_array[right_child(parent)]\n",
        ")\n",
        "```\n",
        "\n",
        "Alternatively, we can write\n",
        "\n",
        "```python\n",
        "heap_property_violated = (\n",
        "    heap_array[parent] > heap_array[left_child(parent)]\n",
        "    or heap_array[parent] > heap_array[right_child(parent)]\n",
        ")\n",
        "```\n"
      ]
    },
    {
      "cell_type": "markdown",
      "id": "01631a99",
      "metadata": {
        "id": "01631a99"
      },
      "source": [
        "### When is the heap property violated?\n",
        "\n",
        "The heap property may be violated when we add a new element to the array. It is also violated when we remove its first element, and we fill the resulting gap with the last element in the array.\n",
        "\n",
        "#### Adding an element to the heap\n",
        "\n",
        "A new element is added to the next available position in the underlying heap array. As we discussed in class, we prepare an array with enough elements to accommodate a binary tree with $M$ levels. It can be proven, with mathemagical induction, that for such a tree we need an array of length $2^M-1$.\n",
        "\n",
        "Elements are added to the array from left to right -- so we need to keep track of the next available position. To do so, we introduce a variable to count the elements used in the array:\n",
        "\n",
        "```python\n",
        "element_counter = 0\n",
        "```\n",
        "\n",
        "Every time we add an element to the heap array, we increment the counter by 1. The current value of this counter also tell us where to place the next element in the array -- i.e., the next available position. Obviously, we need to be careful and ensure that `element_counter < len(heap_array)` if we use Java or another language with fixed-size arrays. In Python arrays (ok, lists) are dynamic, so we don't have to worry about running out of space. But we still need to track where to place the new element and what's the total number of elements in the underlying heap array.\n",
        "\n",
        "Now we can sketch a method for adding new data to the minimum heap -- we assume the heap stores strings, like the example we did in class. Treat the code below as pseudocode.\n",
        "\n",
        "```python\n",
        "def add(text: str) -> None:\n",
        "    if element_counter < len(heap_array):\n",
        "        heap_array[element_counter] = text\n",
        "        element_counter += 1\n",
        "        # heap property violated?\n",
        "        if (heap_property_violated):\n",
        "            # Do something to restore the heap property\n",
        "```"
      ]
    },
    {
      "cell_type": "markdown",
      "id": "09764f24",
      "metadata": {
        "id": "09764f24"
      },
      "source": [
        "#### Removing an element from the heap\n",
        "\n",
        "We can only remove, and return, the first element of the heap -- it's guaranteed to have the smallest value among all elements stored in the heap. Once the first element of the heap is removed, the position at index 0 becomes vacant. We fill it with the last element of the heap. Then we check to see if the newly placed element violates the minimum heap property. If it does, we go through the necessary swaps to restore it.\n",
        "\n",
        "The removal method can be sketched as follows.\n",
        "\n",
        "```python\n",
        "def remove() -> str | None:\n",
        "    removed = None\n",
        "    if element_counter > 0:\n",
        "        removed = heap_array[0]\n",
        "        heap_array[0] = heap_array[element_counter - 1]\n",
        "        element_counter -= 1\n",
        "        if element_counter and heap_property_violated:\n",
        "            # Do something to restore the heap property\n",
        "    return removed\n",
        "```"
      ]
    },
    {
      "cell_type": "markdown",
      "id": "153b78f5",
      "metadata": {
        "id": "153b78f5"
      },
      "source": [
        "### Your assignment\n",
        "\n",
        "For this assignment, you will implement a fully functional **minimum heap** program. You may design it as an object or as a collection of functions that operate on an array — the choice is yours.  \n",
        "\n",
        "Your final program must support the following operations:  \n",
        "\n",
        "* **Add** a new element to the heap array.  \n",
        "* **Remove and return** the smallest element from the heap array.  \n",
        "* **Restore the minimum-heap property** after inserting a new element.  \n",
        "* **Restore the minimum-heap property** after removing the smallest element.  \n",
        "* **Return the number of elements** currently stored in the heap.  \n",
        "* **Return (without removing)** the smallest element of the heap.  \n",
        "\n",
        "#### Heap Property Maintenance\n",
        "\n",
        "The **minimum-heap property** can be violated in two cases:  \n",
        "\n",
        "1. **After insertion** of a new element:\n",
        "   * Restoration starts **from the bottom of the tree and moves upward**.\n",
        "   * In array terms, this means starting at the last element and working toward the front.<br/><br/>\n",
        "\n",
        "2. **After removal** of the smallest element:\n",
        "   * Restoration starts **from the top of the tree and moves downward**.\n",
        "   * In array terms, this means starting at the first element and working toward the back.\n",
        "\n",
        "### Reading\n",
        "\n",
        "* [Priority Queues and Heaps](https://learning.oreilly.com/library/view/data-structures-the/9781098156602/c07.xhtml) from *Data Structures the Fun Way* by Jeremy Kubica (available, at no cost, from the O'Reilly platform when you login with your LUC email address). The book uses pseudocode that is quite similar to Python.\n",
        "\n",
        "\n"
      ]
    },
    {
      "cell_type": "markdown",
      "id": "5a52687e",
      "metadata": {
        "id": "5a52687e"
      },
      "source": [
        "\n",
        "# Coding requirements\n",
        "\n",
        "* You may *not* import modules in your code without explicit permission from Leo. Basically this means no `import` or `include` or similar statements in your programs.\n",
        "\n",
        "* You may *not* use statements like `break` to end loops or `continue` and `pass` to move through branching.\n",
        "\n",
        "* When possible, methods that return values should have only one return statement. This is no longer a strict requirement (if you took COMP 271/272 with me, you know what I am talking about). In general, there is no good reason for a method with 20-25 lines of code at most to have multiple return statements.\n",
        "\n",
        "* Your code should be neat and well documented. If you are coding with Visual Studio Code, there are extensions that can do a great job formatting your program. For Python, consider installing the **Black Formatter** by Microsoft.\n",
        "\n",
        "* If you code in Python, learn to use type hints. They are annoying but useful.\n",
        "\n",
        "* Use a standard style guide for your code. I like Google's style guides for [Java](https://google.github.io/styleguide/javaguide.html) and [Python](https://google.github.io/styleguide/pyguide.html).\n",
        "\n",
        "* If you are using Jupyter notebooks, spend some time exploring MarkDown syntax for documentation and LaTeX for mathmetical typesetting. Good skills to have.\n",
        "\n",
        "# Finals week policy\n",
        "\n",
        "There is no final exam for the course. There will be a final assignemnt that will be published the week before finals and will be due the week of finals. Additionally, 8 students in the course will be invited randomly to a brief meeting with the instructor during the course's final exam slot. If you are selected for a brief meeting, we'll spend about 15 minutes during the final exam slot to review your work. This interview will cover coding practices based on your past assignments. It is meant as a checkpoint to ensure that you have internalized the work you submitted."
      ]
    },
    {
      "cell_type": "markdown",
      "source": [
        "# Code\n"
      ],
      "metadata": {
        "id": "iNV63FsUIx2m"
      },
      "id": "iNV63FsUIx2m"
    },
    {
      "cell_type": "code",
      "source": [
        "class MinHeap:\n",
        "  #constructor\n",
        "  def __init__(self):\n",
        "    #def heap as array/list\n",
        "    self.heap = []\n",
        "    self.size = 0\n",
        "\n",
        "  #add function\n",
        "  def add(self, text: str) -> None:\n",
        "    #appened to end of list\n",
        "      self.heap.append(text)\n",
        "      #increase number of elements in list\n",
        "      self.size += 1\n",
        "      #check if heap property is still observed\n",
        "      if not self.is_heap_observed(0):\n",
        "        #if not bubble up to find new values place\n",
        "        self._bubble_up(self.size-1)\n",
        "\n",
        "  def remove(self) -> str | None:\n",
        "    removed = None\n",
        "    #test if there is anything to remove\n",
        "    if(self.size > 0):\n",
        "      #store first element in removed\n",
        "      removed = self.heap[0]\n",
        "      #rewrite first element with last element of heap\n",
        "      self.heap[0] = self.heap[self.size-1]\n",
        "      #pop last element so there is no duplicates, and the length shortens\n",
        "      self.heap.pop(0)\n",
        "      #reduce number of elements in list by one\n",
        "      self.size -= 1\n",
        "      #check if heap property is still observed\n",
        "      if not self.is_heap_observed(0):\n",
        "        #if not bubble down to re-sort\n",
        "        self._bubble_down(0)\n",
        "    #return removed value\n",
        "    return removed\n",
        "\n",
        "  #swap two elements\n",
        "  def swap(self, i: int, j: int) -> None:\n",
        "    #test they are not the same index\n",
        "    if i != j:\n",
        "        temp = self.heap[i]\n",
        "        self.heap[i] = self.heap[j]\n",
        "        self.heap[j] = temp\n",
        "\n",
        "  #find if the minHeap properties are observed\n",
        "  def is_heap_observed(self, parent: int) -> bool:\n",
        "    min_heap_observed = True\n",
        "    #iterate through the entire heap to check everywhere\n",
        "    for i in range(self.size):\n",
        "      left = left_child(i)\n",
        "      right = right_child(i)\n",
        "      #check left child\n",
        "      if left < self.size and self.heap[i] > self.heap[left]:\n",
        "        min_heap_observed = False\n",
        "      #check right child\n",
        "      if right < self.size and self.heap[i] > self.heap[right]:\n",
        "        min_heap_observed = False\n",
        "\n",
        "    return min_heap_observed\n",
        "\n",
        "  #Bubble down method to maintain MinHeap\n",
        "  # _ to only use as helper method in MinHeap class\n",
        "  def _bubble_down(self, i: int) -> None:\n",
        "    smallest = i\n",
        "    left = left_child(i)\n",
        "    right = right_child(i)\n",
        "    #test if either child is smaller than the current index\n",
        "    if left < self.size and self.heap[left] < self.heap[smallest]:\n",
        "      #place new index in smallest\n",
        "      smallest = left\n",
        "    if right < self.size and self.heap[right] < self.heap[smallest]:\n",
        "      smallest = right\n",
        "      #is there is a new smallest, swap places and recursively call to continue\n",
        "      #maintaince\n",
        "    if(smallest != i):\n",
        "        self.swap(i, smallest)\n",
        "        self._bubble_down(smallest)\n",
        "\n",
        "  #Bubble up method to maintain MinHeap\n",
        "  def _bubble_up(self, i: int) -> None:\n",
        "    #check if already at root\n",
        "    if(i == 0):\n",
        "      return\n",
        "    #get parent index\n",
        "    parent_index = parent(i)\n",
        "    #check that current location is less than parent and swap to maintain MinHeap\n",
        "    if(self.heap[i] < self.heap[parent_index]):\n",
        "      self.swap(i, parent_index)\n",
        "      self._bubble_up(parent_index)\n",
        "\n",
        "  #in-class helper fucntions\n",
        "  def number_of_elements(self) -> int:\n",
        "      return self.size()\n",
        "  def smallest_elemnt(self) -> str:\n",
        "      return self.heap[0]\n",
        "\n",
        "  #helper functions\n",
        "def left_child(parent: int) -> int:\n",
        "  return 2 * parent + 1\n",
        "\n",
        "\n",
        "def right_child(parent: int) -> int:\n",
        "  return 2 * (parent + 1)\n",
        "\n",
        "\n",
        "def parent(child: int) -> int:\n",
        "  return (child - 1) // 2\n"
      ],
      "metadata": {
        "id": "27hpbImrREct"
      },
      "id": "27hpbImrREct",
      "execution_count": 4,
      "outputs": []
    }
  ],
  "metadata": {
    "kernelspec": {
      "display_name": "Python 3",
      "language": "python",
      "name": "python3"
    },
    "language_info": {
      "codemirror_mode": {
        "name": "ipython",
        "version": 3
      },
      "file_extension": ".py",
      "mimetype": "text/x-python",
      "name": "python",
      "nbconvert_exporter": "python",
      "pygments_lexer": "ipython3",
      "version": "3.12.1"
    },
    "colab": {
      "provenance": [],
      "toc_visible": true
    }
  },
  "nbformat": 4,
  "nbformat_minor": 5
}